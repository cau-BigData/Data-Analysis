{
  "nbformat": 4,
  "nbformat_minor": 0,
  "metadata": {
    "colab": {
      "name": "logistic-classfication.ipynb",
      "provenance": [],
      "collapsed_sections": []
    },
    "kernelspec": {
      "name": "python3",
      "display_name": "Python 3"
    },
    "accelerator": "GPU"
  },
  "cells": [
    {
      "cell_type": "code",
      "metadata": {
        "id": "RXwjSB-GSCty",
        "colab_type": "code",
        "colab": {}
      },
      "source": [
        "!cp ./drive/My\\ Drive/Colab\\ Notebooks/BIGDATA-term-project/popular-classifier/data-classify.zip ./\n",
        "!unzip data-classify.zip\n",
        "!rm -rf ./data/popular/.DS_Store\n",
        "!rm -rf ./data/unpopular/.DS_Store\n",
        "!rm -rf __MACOSX"
      ],
      "execution_count": null,
      "outputs": []
    },
    {
      "cell_type": "markdown",
      "metadata": {
        "id": "4BUV7s8VfH17",
        "colab_type": "text"
      },
      "source": [
        "## 1. Load caption script files"
      ]
    },
    {
      "cell_type": "code",
      "metadata": {
        "id": "Ex_BXw9bjM2R",
        "colab_type": "code",
        "colab": {}
      },
      "source": [
        "from sklearn.datasets import load_files\n",
        "\n",
        "DATA_PATH = './data'\n",
        "data = load_files(DATA_PATH)\n",
        "X, y = data.data, data.target"
      ],
      "execution_count": 234,
      "outputs": []
    },
    {
      "cell_type": "markdown",
      "metadata": {
        "id": "F7J8gSQzfOJc",
        "colab_type": "text"
      },
      "source": [
        "## 2. Define data preprocessing function"
      ]
    },
    {
      "cell_type": "code",
      "metadata": {
        "id": "td_V_CaWaBVj",
        "colab_type": "code",
        "colab": {
          "base_uri": "https://localhost:8080/",
          "height": 187
        },
        "outputId": "7d9812dc-cfaa-4d57-9a99-08cb3c0248a7"
      },
      "source": [
        "import re\n",
        "import nltk\n",
        "from nltk.corpus import stopwords\n",
        "from nltk.stem import WordNetLemmatizer\n",
        "from nltk import pos_tag, word_tokenize\n",
        "from sklearn.feature_extraction.text import CountVectorizer, TfidfTransformer\n",
        "from sklearn.model_selection import train_test_split\n",
        "from sklearn.decomposition import TruncatedSVD\n",
        "\n",
        "nltk.download('stopwords')\n",
        "nltk.download('wordnet')\n",
        "nltk.download('punkt')\n",
        "nltk.download('averaged_perceptron_tagger')\n",
        "\n",
        "def preprocess(X, y):\n",
        "  docs = []\n",
        "  stemmer = WordNetLemmatizer()\n",
        "\n",
        "  # text preprocessing\n",
        "  for i, doc_raw in enumerate(X):\n",
        "    doc = doc_raw.decode('utf-8')\n",
        "    doc = re.sub(r'\\[.+\\]', ' ', doc)\n",
        "    doc = re.sub(r'\\(.+\\)', ' ', doc)\n",
        "    doc = re.sub(r'\\W', ' ', doc)\n",
        "    doc = re.sub(r'\\s+', ' ', doc, flags=re.I)\n",
        "\n",
        "    doc = doc.lower()\n",
        "\n",
        "    word_list = [word for word in doc.split() if len(word) > 2]\n",
        "\n",
        "    lemma_word_list = []\n",
        "    for word, tag in pos_tag(word_list):\n",
        "      main_tag = tag[0].lower()\n",
        "      lemma_word = ''\n",
        "\n",
        "      if main_tag in ['a', 'r', 'n', 'v']:\n",
        "        lemma_word = stemmer.lemmatize(word, main_tag)\n",
        "      else:\n",
        "        lemma_word = word\n",
        "\n",
        "      lemma_word_list.append(lemma_word)\n",
        "\n",
        "    doc = ' '.join([lemma_word for lemma_word in lemma_word_list if len(lemma_word) > 2])\n",
        "    docs.append(doc)\n",
        "\n",
        "  vectorizer = CountVectorizer(min_df=0.005, max_df=1.0, stop_words=stopwords.words('english'))\n",
        "  X_data = vectorizer.fit_transform(docs).toarray()\n",
        "  tfidf_transformer = TfidfTransformer(sublinear_tf=True)\n",
        "  X_data = tfidf_transformer.fit_transform(X_data).toarray()\n",
        "\n",
        "  svd_model = TruncatedSVD(n_components=500)\n",
        "  X_data = svd_model.fit_transform(X_data)\n",
        "\n",
        "  y_data = y\n",
        "\n",
        "  return X_data, y_data"
      ],
      "execution_count": 235,
      "outputs": [
        {
          "output_type": "stream",
          "text": [
            "[nltk_data] Downloading package stopwords to /root/nltk_data...\n",
            "[nltk_data]   Package stopwords is already up-to-date!\n",
            "[nltk_data] Downloading package wordnet to /root/nltk_data...\n",
            "[nltk_data]   Package wordnet is already up-to-date!\n",
            "[nltk_data] Downloading package punkt to /root/nltk_data...\n",
            "[nltk_data]   Package punkt is already up-to-date!\n",
            "[nltk_data] Downloading package averaged_perceptron_tagger to\n",
            "[nltk_data]     /root/nltk_data...\n",
            "[nltk_data]   Package averaged_perceptron_tagger is already up-to-\n",
            "[nltk_data]       date!\n"
          ],
          "name": "stdout"
        }
      ]
    },
    {
      "cell_type": "code",
      "metadata": {
        "id": "2DGXAt3paf1o",
        "colab_type": "code",
        "colab": {}
      },
      "source": [
        "X_data, y_data = preprocess(X, y)\n",
        "X_train, X_test, y_train, y_test = train_test_split(X_data, y_data, test_size=0.2, shuffle=True)"
      ],
      "execution_count": 248,
      "outputs": []
    },
    {
      "cell_type": "markdown",
      "metadata": {
        "id": "bTlWK8vqfYBe",
        "colab_type": "text"
      },
      "source": [
        "## 3. Migrate data to GPU"
      ]
    },
    {
      "cell_type": "code",
      "metadata": {
        "id": "q1b_diL5yidT",
        "colab_type": "code",
        "colab": {}
      },
      "source": [
        "import torch\n",
        "\n",
        "device = torch.device('cuda' if torch.cuda.is_available() else 'cpu')\n",
        "\n",
        "X_train = torch.Tensor(X_train).to(device)\n",
        "y_train = torch.Tensor(y_train).to(device).reshape(-1, 1)\n",
        "\n",
        "X_test = torch.Tensor(X_test).to(device)\n",
        "y_test = torch.Tensor(y_test).to(device).reshape(-1, 1)"
      ],
      "execution_count": 249,
      "outputs": []
    },
    {
      "cell_type": "markdown",
      "metadata": {
        "id": "aUecVgORfsJq",
        "colab_type": "text"
      },
      "source": [
        "## 4. Define logistic classifier"
      ]
    },
    {
      "cell_type": "code",
      "metadata": {
        "id": "qdY8dF5m64MN",
        "colab_type": "code",
        "colab": {}
      },
      "source": [
        "import torch.nn as nn\n",
        "import torch.nn.functional as F\n",
        "\n",
        "class FNN(nn.Module):\n",
        "  def __init__(self, input_size, hidden_size, output_size):\n",
        "    super(FNN, self).__init__()\n",
        "    self.fc1 = nn.Linear(input_size, hidden_size)\n",
        "    self.fc2 = nn.Linear(hidden_size, output_size)\n",
        "\n",
        "  def forward(self, X):\n",
        "    out1 = F.relu(self.fc1(X))\n",
        "    out2 = torch.sigmoid(self.fc2(out1))\n",
        "    return out2\n",
        "    \n",
        "\n",
        "def accuracy(y_pred, y):\n",
        "  answer = (y_pred >= 0.5).float()\n",
        "  return torch.mean((answer == y).float())"
      ],
      "execution_count": 250,
      "outputs": []
    },
    {
      "cell_type": "markdown",
      "metadata": {
        "id": "DEisEaKBfxOV",
        "colab_type": "text"
      },
      "source": [
        "## 5. Define model training and result showing functions"
      ]
    },
    {
      "cell_type": "code",
      "metadata": {
        "id": "DhQ59Ox5VtXc",
        "colab_type": "code",
        "colab": {}
      },
      "source": [
        "import numpy as np\n",
        "import matplotlib.pyplot as plt\n",
        "\n",
        "def train_model(lr, epoch_count, layer_size_list, lamb):\n",
        "  fnn = FNN(*layer_size_list).to(device)\n",
        "  criterion = nn.BCELoss()\n",
        "  optimizer = torch.optim.SGD(fnn.parameters(), lr=lr, weight_decay=lamb)\n",
        "\n",
        "  history = {\n",
        "      'train_loss': [],\n",
        "      'test_loss': [],\n",
        "      'train_acc': [],\n",
        "      'test_acc': []\n",
        "  }\n",
        "\n",
        "  for epoch in range(epoch_count):\n",
        "    y_train_pred = fnn.forward(X_train)\n",
        "    train_loss = criterion(y_train_pred, y_train)\n",
        "    train_acc = accuracy(y_train_pred, y_train)\n",
        "\n",
        "    y_test_pred = fnn.forward(X_test)\n",
        "    test_loss = criterion(y_test_pred, y_test)\n",
        "    test_acc = accuracy(y_test_pred, y_test)\n",
        "\n",
        "    history['train_loss'].append(train_loss.item())\n",
        "    history['test_loss'].append(test_loss.item())\n",
        "    history['train_acc'].append(train_acc.item())\n",
        "    history['test_acc'].append(test_acc.item())\n",
        "\n",
        "    optimizer.zero_grad()\n",
        "    train_loss.backward()\n",
        "    optimizer.step()\n",
        "\n",
        "  for key in history.keys():\n",
        "    history[key] = np.array(history[key])\n",
        "\n",
        "  return fnn, history\n",
        "\n",
        "def show_result(history):\n",
        "  epoch_tick = np.arange(history['train_loss'].shape[0])\n",
        "\n",
        "  plt.figure(figsize=(12, 8))\n",
        "  plt.title('Loss curve')\n",
        "  plt.plot(epoch_tick, history['train_loss'], 'b-', linewidth=5)\n",
        "  plt.plot(epoch_tick, history['test_loss'], 'r-', linewidth=5)\n",
        "  plt.legend(['training loss', 'testing loss'], fontsize='x-large', loc='upper right')\n",
        "  plt.xlabel('epoch')\n",
        "  plt.ylabel('loss')\n",
        "  plt.show()\n",
        "\n",
        "  plt.figure(figsize=(12, 8))\n",
        "  plt.title('Accuracy curve')\n",
        "  plt.plot(epoch_tick, history['train_acc'] * 100, 'b-', linewidth=5)\n",
        "  plt.plot(epoch_tick, history['test_acc'] * 100, 'r-', linewidth=5)\n",
        "  plt.legend(['training accuracy', 'testing accuracy'], fontsize='x-large', loc='lower right')\n",
        "  plt.xlabel('epoch')\n",
        "  plt.ylabel('accuracy')\n",
        "  plt.show()"
      ],
      "execution_count": 251,
      "outputs": []
    },
    {
      "cell_type": "code",
      "metadata": {
        "id": "fLkeuyjkZ0Op",
        "colab_type": "code",
        "colab": {
          "base_uri": "https://localhost:8080/",
          "height": 1000
        },
        "outputId": "297dabcf-a774-4dc1-b0f0-04a08219a358"
      },
      "source": [
        "TRAIN_MODE = True\n",
        "MODEL_SAVE_PATH = 'classifier.pt'\n",
        "\n",
        "if TRAIN_MODE:\n",
        "  model, history = train_model(lr=0.3, epoch_count=3000, layer_size_list=(500, 50, 1), lamb=0.005)\n",
        "  show_result(history)\n",
        "\n",
        "  torch.save(model.state_dict(), MODEL_SAVE_PATH)\n",
        "else:\n",
        "  model = FNN(500, 50, 1).to(device)\n",
        "  model.load_state_dict(torch.load(MODEL_SAVE_PATH))\n",
        "  model.eval()\n",
        "\n",
        "  # forward your test data and check it\n",
        "  # print(model.forward(X_test))\n",
        "  # print(y_test)"
      ],
      "execution_count": 252,
      "outputs": [
        {
          "output_type": "display_data",
          "data": {
            "image/png": "[encoded data removed]",
            "text/plain": [
              "<Figure size 864x576 with 1 Axes>"
            ]
          },
          "metadata": {
            "tags": [],
            "needs_background": "light"
          }
        },
        {
          "output_type": "display_data",
          "data": {
            "image/png": "[encoded data removed]",
            "text/plain": [
              "<Figure size 864x576 with 1 Axes>"
            ]
          },
          "metadata": {
            "tags": [],
            "needs_background": "light"
          }
        }
      ]
    },
    {
      "cell_type": "code",
      "metadata": {
        "id": "EOv-pXAKbUN2",
        "colab_type": "code",
        "colab": {}
      },
      "source": [
        ""
      ],
      "execution_count": null,
      "outputs": []
    }
  ]
}